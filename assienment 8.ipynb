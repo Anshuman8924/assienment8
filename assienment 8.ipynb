{
 "cells": [
  {
   "cell_type": "code",
   "execution_count": null,
   "id": "121466ac-843b-4973-8b9b-53e65dbebc0d",
   "metadata": {},
   "outputs": [],
   "source": []
  },
  {
   "cell_type": "code",
   "execution_count": 6,
   "id": "4024f294-4889-4309-a350-b2c160a6aea8",
   "metadata": {},
   "outputs": [
    {
     "name": "stdin",
     "output_type": "stream",
     "text": [
      "enter your passward asER34#$%t\n"
     ]
    },
    {
     "name": "stdout",
     "output_type": "stream",
     "text": [
      "valid\n"
     ]
    }
   ],
   "source": [
    "l,k,j,h=0,0,0,0\n",
    "passward=input('enter your passward')\n",
    "if (len(passward)>=10):\n",
    "    for i in passward:\n",
    "        if (i.islower()):\n",
    "            l+=1\n",
    "        if (i.isupper()):\n",
    "            k+=1\n",
    "        if (i.isdigit()):\n",
    "            j+=1\n",
    "        if (i=='@' or i=='#' or i=='$' or i=='_' or i=='%'):\n",
    "                h+=1\n",
    "if ((l>=2 ) and (k>=2) and (j>=1) and (h>=3 ) and l+k+j+h==len(passward))  :\n",
    "    print('valid')\n",
    "else:\n",
    "    print('invalid')"
   ]
  },
  {
   "cell_type": "code",
   "execution_count": null,
   "id": "11af99e1-4a84-4147-9e45-a01aefa12cc2",
   "metadata": {},
   "outputs": [],
   "source": [
    "#Q2. Solve the below-given questions using at least one of the following:\n",
    "\n",
    "#1. Lambda functioJ\n",
    "#2. Filter functioJ\n",
    "#3. Zap functioJ\n",
    "#4. List ComprehensioI\n",
    "\n",
    "# Check if the string starts with a particular letter\n",
    "#Check if the string is numeric\n",
    "# Sort a list of tuples having fruit names and their quantity. [(\"mango\",99),(\"orange\",80), (\"grapes\", 1000)-\n",
    "# Find the squares of numbers from 1 to 10\n",
    "# Find the cube root of numbers from 1 to 10\n",
    "# Check if a given number is even\n",
    "# Filter odd numbers from the given list.\n",
    "#    [1,2,3,4,5,6,7,8,9,10-\n",
    "# Sort a list of integers into positive and negative integers lists.\n",
    "#      [1,2,3,4,5,6,-1,-2,-3,-4,-5,0]"
   ]
  },
  {
   "cell_type": "code",
   "execution_count": null,
   "id": "af992ddb-301f-4b8d-a5f8-a845ad821378",
   "metadata": {},
   "outputs": [],
   "source": [
    "# Check if the string starts with a particular letter"
   ]
  },
  {
   "cell_type": "code",
   "execution_count": 11,
   "id": "c1427cfd-88a5-4f26-9741-fe2c56a2a154",
   "metadata": {},
   "outputs": [],
   "source": [
    "start_with = lambda e: True if e.startswith('I') else False"
   ]
  },
  {
   "cell_type": "code",
   "execution_count": 12,
   "id": "f4d9a155-6af8-43ba-9e8f-92e22c10ce6f",
   "metadata": {},
   "outputs": [
    {
     "name": "stdout",
     "output_type": "stream",
     "text": [
      "True\n"
     ]
    }
   ],
   "source": [
    "print(start_with('Isjdjjd'))"
   ]
  },
  {
   "cell_type": "code",
   "execution_count": null,
   "id": "4b71214a-b8b3-4005-adab-3e207115c6d2",
   "metadata": {},
   "outputs": [],
   "source": [
    "#Check if the string is numeric"
   ]
  },
  {
   "cell_type": "code",
   "execution_count": 13,
   "id": "72ff1fd9-00fd-4a90-aba1-ed8967e2ad0e",
   "metadata": {},
   "outputs": [],
   "source": [
    " is_num= lambda x:  True if x.isnumeric() else False"
   ]
  },
  {
   "cell_type": "code",
   "execution_count": 17,
   "id": "7ffc750b-9479-405e-a80e-217d1faecdd9",
   "metadata": {},
   "outputs": [
    {
     "name": "stdout",
     "output_type": "stream",
     "text": [
      "True\n"
     ]
    }
   ],
   "source": [
    "print(is_num('123'))"
   ]
  },
  {
   "cell_type": "code",
   "execution_count": 18,
   "id": "4a179602-7959-4f8b-837b-78fb5aaea60d",
   "metadata": {},
   "outputs": [],
   "source": [
    "# Sort a list of tuples having fruit names and their quantity.\n",
    "# [(\"mango\",99),(\"orange\",80), (\"grapes\", 1000)]"
   ]
  },
  {
   "cell_type": "code",
   "execution_count": 13,
   "id": "38b9d7e6-b327-4a81-ba3f-fc5c0e4595d9",
   "metadata": {},
   "outputs": [
    {
     "name": "stdout",
     "output_type": "stream",
     "text": [
      "[('orange', 80), ('mango', 99), ('grapes', 1000)]\n"
     ]
    }
   ],
   "source": [
    "# by name\n",
    "mango_number= [(\"mango\",99),(\"orange\",80), (\"grapes\", 1000)]\n",
    "mango_number.sort(key=lambda x: x[1])\n",
    "print(mango_number)"
   ]
  },
  {
   "cell_type": "code",
   "execution_count": 14,
   "id": "a2cc5de2-947b-4c81-b96a-f4a2356b5b9d",
   "metadata": {},
   "outputs": [
    {
     "name": "stdout",
     "output_type": "stream",
     "text": [
      "[('grapes', 1000), ('mango', 99), ('orange', 80)]\n"
     ]
    }
   ],
   "source": [
    "#by value\n",
    "mango_number= [(\"mango\",99),(\"orange\",80), (\"grapes\", 1000)]\n",
    "mango_number.sort(key=lambda x: x[0])\n",
    "print(mango_number)"
   ]
  },
  {
   "cell_type": "code",
   "execution_count": 15,
   "id": "91278bf0-4724-43aa-ae24-7dcb07868b16",
   "metadata": {},
   "outputs": [],
   "source": [
    "# Find the squares of numbers from 1 to 10"
   ]
  },
  {
   "cell_type": "code",
   "execution_count": 29,
   "id": "f2dba439-2dbd-4f31-9c4d-7e1938e499af",
   "metadata": {},
   "outputs": [
    {
     "name": "stdin",
     "output_type": "stream",
     "text": [
      "input your max range 11\n"
     ]
    },
    {
     "name": "stdout",
     "output_type": "stream",
     "text": [
      "[1, 2, 3, 4, 5, 6, 7, 8, 9, 10]"
     ]
    },
    {
     "data": {
      "text/plain": [
       "[1, 4, 9, 16, 25, 36, 49, 64, 81, 100]"
      ]
     },
     "execution_count": 29,
     "metadata": {},
     "output_type": "execute_result"
    }
   ],
   "source": [
    "s=int(input('input your max range'))\n",
    "l=[]\n",
    "for i in range(1,s):\n",
    "    l.append(i)\n",
    "print(l,end='') \n",
    "list(map(lambda x: x**2, l))"
   ]
  },
  {
   "cell_type": "code",
   "execution_count": 30,
   "id": "b3b18d3b-9251-4f9c-b24a-fc6abd2efbfb",
   "metadata": {},
   "outputs": [],
   "source": [
    "# Find the cube root of numbers from 1 to 10"
   ]
  },
  {
   "cell_type": "code",
   "execution_count": 35,
   "id": "dd555f1a-9065-42b3-ae08-8adc5e6abe62",
   "metadata": {},
   "outputs": [
    {
     "name": "stdin",
     "output_type": "stream",
     "text": [
      "input your max range 11\n"
     ]
    },
    {
     "name": "stdout",
     "output_type": "stream",
     "text": [
      "[1, 2, 3, 4, 5, 6, 7, 8, 9, 10][1.0, 1.2599210498948732, 1.4422495703074083, 1.5874010519681994, 1.7099759466766968, 1.8171205928321397, 1.912931182772389, 2.0, 2.080083823051904, 2.154434690031884]"
     ]
    }
   ],
   "source": [
    "s=int(input('input your max range'))\n",
    "l=[]\n",
    "for i in range(1,s):\n",
    "    l.append(i)\n",
    "print(l,end='')     \n",
    "\n",
    "print(list(map(lambda x: x**(1/3), l)),end='')"
   ]
  },
  {
   "cell_type": "code",
   "execution_count": 36,
   "id": "a2098b65-1847-407e-bda9-0ba3ad233c9f",
   "metadata": {},
   "outputs": [],
   "source": [
    "# Check if a given number is even"
   ]
  },
  {
   "cell_type": "code",
   "execution_count": 10,
   "id": "e62f162f-04b8-4f96-93d7-29a4fe461f5f",
   "metadata": {},
   "outputs": [
    {
     "name": "stdin",
     "output_type": "stream",
     "text": [
      "enter your value 4\n"
     ]
    },
    {
     "name": "stdout",
     "output_type": "stream",
     "text": [
      " even\n"
     ]
    }
   ],
   "source": [
    "# 1st method\n",
    "s=int(input('enter your value'))\n",
    "d = (lambda :' even' if s%2==0 else 'noteven')\n",
    "print(d())"
   ]
  },
  {
   "cell_type": "code",
   "execution_count": 11,
   "id": "a9880884-44f6-46a7-ac66-51c2d873a675",
   "metadata": {},
   "outputs": [],
   "source": [
    "# 2nd method\n",
    "d = (lambda s:' even' if s%2==0 else 'noteven')\n"
   ]
  },
  {
   "cell_type": "code",
   "execution_count": 13,
   "id": "a5c20863-fcae-41ae-af8c-78707a181ba4",
   "metadata": {},
   "outputs": [
    {
     "data": {
      "text/plain": [
       "'noteven'"
      ]
     },
     "execution_count": 13,
     "metadata": {},
     "output_type": "execute_result"
    }
   ],
   "source": [
    "d(5)"
   ]
  },
  {
   "cell_type": "code",
   "execution_count": 14,
   "id": "6d7bf1bd-9ed2-4aed-a07d-9f9ba4ea43b4",
   "metadata": {},
   "outputs": [],
   "source": [
    "# Filter odd numbers from the given list.\n",
    "#    [1,2,3,4,5,6,7,8,9,10]"
   ]
  },
  {
   "cell_type": "code",
   "execution_count": 16,
   "id": "a879b1d0-5232-4534-bda3-57b59deb19b1",
   "metadata": {},
   "outputs": [
    {
     "data": {
      "text/plain": [
       "[1, 3, 5, 7, 9]"
      ]
     },
     "execution_count": 16,
     "metadata": {},
     "output_type": "execute_result"
    }
   ],
   "source": [
    "l= [1,2,3,4,5,6,7,8,9,10]\n",
    "list(filter(lambda x:x%2!=0,l))\n",
    "    "
   ]
  },
  {
   "cell_type": "code",
   "execution_count": 17,
   "id": "95ae11d7-01c9-48ab-b451-493fb8622af4",
   "metadata": {},
   "outputs": [],
   "source": [
    "# Sort a list of integers into positive and negative integers lists.\n",
    "#      [1,2,3,4,5,6,-1,-2,-3,-4,-5,0]"
   ]
  },
  {
   "cell_type": "code",
   "execution_count": 19,
   "id": "2c41793c-fd8e-4933-a4c2-a270f8d249e7",
   "metadata": {},
   "outputs": [
    {
     "data": {
      "text/plain": [
       "[1, 2, 3, 4, 5, 6, -1, -2, -3, -4, -5]"
      ]
     },
     "execution_count": 19,
     "metadata": {},
     "output_type": "execute_result"
    }
   ],
   "source": [
    "l=  [1,2,3,4,5,6,-1,-2,-3,-4,-5,0]\n",
    "list(filter(lambda x: x!=0,l))"
   ]
  },
  {
   "cell_type": "code",
   "execution_count": null,
   "id": "09b5a6aa-0046-47cc-bbf6-809fd057a54c",
   "metadata": {},
   "outputs": [],
   "source": []
  }
 ],
 "metadata": {
  "kernelspec": {
   "display_name": "Python 3 (ipykernel)",
   "language": "python",
   "name": "python3"
  },
  "language_info": {
   "codemirror_mode": {
    "name": "ipython",
    "version": 3
   },
   "file_extension": ".py",
   "mimetype": "text/x-python",
   "name": "python",
   "nbconvert_exporter": "python",
   "pygments_lexer": "ipython3",
   "version": "3.10.8"
  }
 },
 "nbformat": 4,
 "nbformat_minor": 5
}
